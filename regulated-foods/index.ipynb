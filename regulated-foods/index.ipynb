{
 "cells": [
  {
   "cell_type": "markdown",
   "metadata": {},
   "source": [
    "## <center> Análise da base de Alimentos Regularizados e Situação do Registro </center>"
   ]
  },
  {
   "cell_type": "markdown",
   "metadata": {},
   "source": [
    "#### <center> 📈 Análise Exploratória de Dados e Análise de Dados 📉 </center>"
   ]
  },
  {
   "cell_type": "markdown",
   "metadata": {},
   "source": [
    "#### Importações"
   ]
  },
  {
   "cell_type": "code",
   "execution_count": 1,
   "metadata": {},
   "outputs": [],
   "source": [
    "import pandas as pd"
   ]
  },
  {
   "cell_type": "markdown",
   "metadata": {},
   "source": [
    "#### Leitura do DF"
   ]
  },
  {
   "cell_type": "code",
   "execution_count": 2,
   "metadata": {},
   "outputs": [
    {
     "data": {
      "text/html": [
       "<div>\n",
       "<style scoped>\n",
       "    .dataframe tbody tr th:only-of-type {\n",
       "        vertical-align: middle;\n",
       "    }\n",
       "\n",
       "    .dataframe tbody tr th {\n",
       "        vertical-align: top;\n",
       "    }\n",
       "\n",
       "    .dataframe thead th {\n",
       "        text-align: right;\n",
       "    }\n",
       "</style>\n",
       "<table border=\"1\" class=\"dataframe\">\n",
       "  <thead>\n",
       "    <tr style=\"text-align: right;\">\n",
       "      <th></th>\n",
       "      <th>SurveyscountryDESC</th>\n",
       "      <th>SurveyscountryID</th>\n",
       "      <th>SurveystartyearID</th>\n",
       "      <th>SurveyDESC</th>\n",
       "      <th>SurveyID</th>\n",
       "      <th>PopulationGroupL2DESC</th>\n",
       "      <th>PopulationGroupL2ID</th>\n",
       "      <th>ExposurehierarchyL1DESC</th>\n",
       "      <th>ExposurehierarchyL1ID</th>\n",
       "      <th>ExposurehierarchyL2DESC</th>\n",
       "      <th>...</th>\n",
       "      <th>p95_acute_bw_rs</th>\n",
       "      <th>p975_acute</th>\n",
       "      <th>p975_acute_rs</th>\n",
       "      <th>p975_acute_bw</th>\n",
       "      <th>p975_acute_bw_rs</th>\n",
       "      <th>p99_acute</th>\n",
       "      <th>p99_acute_rs</th>\n",
       "      <th>p99_acute_bw</th>\n",
       "      <th>p99_acute_bw_rs</th>\n",
       "      <th>level</th>\n",
       "    </tr>\n",
       "  </thead>\n",
       "  <tbody>\n",
       "    <tr>\n",
       "      <th>0</th>\n",
       "      <td>Austria</td>\n",
       "      <td>14</td>\n",
       "      <td>2005.0</td>\n",
       "      <td>Austrian Study on Nutritional Status 2005-06</td>\n",
       "      <td>1</td>\n",
       "      <td>Adults</td>\n",
       "      <td>10</td>\n",
       "      <td>Alcoholic beverages</td>\n",
       "      <td>10489503</td>\n",
       "      <td>Alcoholic beverages</td>\n",
       "      <td>...</td>\n",
       "      <td>0.000000</td>\n",
       "      <td>1685.50</td>\n",
       "      <td>0.0</td>\n",
       "      <td>13.848361</td>\n",
       "      <td>0.000000</td>\n",
       "      <td>1760.2</td>\n",
       "      <td>0.0</td>\n",
       "      <td>14.440984</td>\n",
       "      <td>0.000000</td>\n",
       "      <td>7</td>\n",
       "    </tr>\n",
       "    <tr>\n",
       "      <th>1</th>\n",
       "      <td>Austria</td>\n",
       "      <td>14</td>\n",
       "      <td>2005.0</td>\n",
       "      <td>Austrian Study on Nutritional Status 2005-06</td>\n",
       "      <td>1</td>\n",
       "      <td>Adults</td>\n",
       "      <td>10</td>\n",
       "      <td>Alcoholic beverages</td>\n",
       "      <td>10489503</td>\n",
       "      <td>Beer and beer-like beverage</td>\n",
       "      <td>...</td>\n",
       "      <td>7.142857</td>\n",
       "      <td>2000.00</td>\n",
       "      <td>990.0</td>\n",
       "      <td>23.467371</td>\n",
       "      <td>11.936605</td>\n",
       "      <td>2232.0</td>\n",
       "      <td>1500.0</td>\n",
       "      <td>27.720513</td>\n",
       "      <td>18.681044</td>\n",
       "      <td>7</td>\n",
       "    </tr>\n",
       "    <tr>\n",
       "      <th>2</th>\n",
       "      <td>Austria</td>\n",
       "      <td>14</td>\n",
       "      <td>2005.0</td>\n",
       "      <td>Austrian Study on Nutritional Status 2005-06</td>\n",
       "      <td>1</td>\n",
       "      <td>Adults</td>\n",
       "      <td>10</td>\n",
       "      <td>Alcoholic beverages</td>\n",
       "      <td>10489503</td>\n",
       "      <td>Beer and beer-like beverage</td>\n",
       "      <td>...</td>\n",
       "      <td>0.000000</td>\n",
       "      <td>962.50</td>\n",
       "      <td>0.0</td>\n",
       "      <td>15.111020</td>\n",
       "      <td>0.000000</td>\n",
       "      <td>985.0</td>\n",
       "      <td>0.0</td>\n",
       "      <td>15.419408</td>\n",
       "      <td>0.000000</td>\n",
       "      <td>7</td>\n",
       "    </tr>\n",
       "    <tr>\n",
       "      <th>3</th>\n",
       "      <td>Austria</td>\n",
       "      <td>14</td>\n",
       "      <td>2005.0</td>\n",
       "      <td>Austrian Study on Nutritional Status 2005-06</td>\n",
       "      <td>1</td>\n",
       "      <td>Adults</td>\n",
       "      <td>10</td>\n",
       "      <td>Alcoholic beverages</td>\n",
       "      <td>10489503</td>\n",
       "      <td>Beer and beer-like beverage</td>\n",
       "      <td>...</td>\n",
       "      <td>0.000000</td>\n",
       "      <td>1468.75</td>\n",
       "      <td>0.0</td>\n",
       "      <td>15.333581</td>\n",
       "      <td>0.000000</td>\n",
       "      <td>1487.5</td>\n",
       "      <td>0.0</td>\n",
       "      <td>15.508432</td>\n",
       "      <td>0.000000</td>\n",
       "      <td>7</td>\n",
       "    </tr>\n",
       "    <tr>\n",
       "      <th>4</th>\n",
       "      <td>Austria</td>\n",
       "      <td>14</td>\n",
       "      <td>2005.0</td>\n",
       "      <td>Austrian Study on Nutritional Status 2005-06</td>\n",
       "      <td>1</td>\n",
       "      <td>Adults</td>\n",
       "      <td>10</td>\n",
       "      <td>Alcoholic beverages</td>\n",
       "      <td>10489503</td>\n",
       "      <td>Beer and beer-like beverage</td>\n",
       "      <td>...</td>\n",
       "      <td>0.000000</td>\n",
       "      <td>2150.00</td>\n",
       "      <td>0.0</td>\n",
       "      <td>28.805970</td>\n",
       "      <td>0.000000</td>\n",
       "      <td>2360.0</td>\n",
       "      <td>0.0</td>\n",
       "      <td>31.522388</td>\n",
       "      <td>0.000000</td>\n",
       "      <td>7</td>\n",
       "    </tr>\n",
       "  </tbody>\n",
       "</table>\n",
       "<p>5 rows × 97 columns</p>\n",
       "</div>"
      ],
      "text/plain": [
       "  SurveyscountryDESC  SurveyscountryID  SurveystartyearID  \\\n",
       "0            Austria                14             2005.0   \n",
       "1            Austria                14             2005.0   \n",
       "2            Austria                14             2005.0   \n",
       "3            Austria                14             2005.0   \n",
       "4            Austria                14             2005.0   \n",
       "\n",
       "                                     SurveyDESC  SurveyID  \\\n",
       "0  Austrian Study on Nutritional Status 2005-06         1   \n",
       "1  Austrian Study on Nutritional Status 2005-06         1   \n",
       "2  Austrian Study on Nutritional Status 2005-06         1   \n",
       "3  Austrian Study on Nutritional Status 2005-06         1   \n",
       "4  Austrian Study on Nutritional Status 2005-06         1   \n",
       "\n",
       "  PopulationGroupL2DESC  PopulationGroupL2ID ExposurehierarchyL1DESC  \\\n",
       "0                Adults                   10     Alcoholic beverages   \n",
       "1                Adults                   10     Alcoholic beverages   \n",
       "2                Adults                   10     Alcoholic beverages   \n",
       "3                Adults                   10     Alcoholic beverages   \n",
       "4                Adults                   10     Alcoholic beverages   \n",
       "\n",
       "   ExposurehierarchyL1ID      ExposurehierarchyL2DESC  ...  p95_acute_bw_rs  \\\n",
       "0               10489503          Alcoholic beverages  ...         0.000000   \n",
       "1               10489503  Beer and beer-like beverage  ...         7.142857   \n",
       "2               10489503  Beer and beer-like beverage  ...         0.000000   \n",
       "3               10489503  Beer and beer-like beverage  ...         0.000000   \n",
       "4               10489503  Beer and beer-like beverage  ...         0.000000   \n",
       "\n",
       "  p975_acute  p975_acute_rs p975_acute_bw  p975_acute_bw_rs p99_acute  \\\n",
       "0    1685.50            0.0     13.848361          0.000000    1760.2   \n",
       "1    2000.00          990.0     23.467371         11.936605    2232.0   \n",
       "2     962.50            0.0     15.111020          0.000000     985.0   \n",
       "3    1468.75            0.0     15.333581          0.000000    1487.5   \n",
       "4    2150.00            0.0     28.805970          0.000000    2360.0   \n",
       "\n",
       "   p99_acute_rs p99_acute_bw  p99_acute_bw_rs level  \n",
       "0           0.0    14.440984         0.000000     7  \n",
       "1        1500.0    27.720513        18.681044     7  \n",
       "2           0.0    15.419408         0.000000     7  \n",
       "3           0.0    15.508432         0.000000     7  \n",
       "4           0.0    31.522388         0.000000     7  \n",
       "\n",
       "[5 rows x 97 columns]"
      ]
     },
     "metadata": {},
     "output_type": "display_data"
    },
    {
     "name": "stdout",
     "output_type": "stream",
     "text": [
      "Colunas:\n",
      " Index(['SurveyscountryDESC', 'SurveyscountryID', 'SurveystartyearID',\n",
      "       'SurveyDESC', 'SurveyID', 'PopulationGroupL2DESC',\n",
      "       'PopulationGroupL2ID', 'ExposurehierarchyL1DESC',\n",
      "       'ExposurehierarchyL1ID', 'ExposurehierarchyL2DESC',\n",
      "       'ExposurehierarchyL2ID', 'ExposurehierarchyL3DESC',\n",
      "       'ExposurehierarchyL3ID', 'ExposurehierarchyL4DESC',\n",
      "       'ExposurehierarchyL4ID', 'ExposurehierarchyL5DESC',\n",
      "       'ExposurehierarchyL5ID', 'ExposurehierarchyL6DESC',\n",
      "       'ExposurehierarchyL6ID', 'ExposurehierarchyL7DESC',\n",
      "       'ExposurehierarchyL7ID', 'Metrics', 'comment_Acute',\n",
      "       'Comment_Acute_all', 'comment_chronic', 'comment_chronic_all',\n",
      "       'con_days', 'count_days_s_pg', 'count_days_wg', 'count_subject_s_pg',\n",
      "       'count_subject_wg', 'per_customer', 'avg_chronic', 'avg_chronic_rs',\n",
      "       'avg_chronic_bw', 'avg_chronic_bw_rs', 'STD_CH', 'STD_CH_RS',\n",
      "       'STD_CH_BW', 'STD_CH_BW_RS', 'p5_chronic', 'p5_chronic_rs',\n",
      "       'p5_chronic_bw', 'p5_chronic_bw_rs', 'p10_chronic', 'p10_chronic_rs',\n",
      "       'p10_chronic_bw', 'p10_chronic_bw_rs', 'median_chronic',\n",
      "       'median_chronic_rs', 'median_chronic_bw', 'median_chronic_bw_rs',\n",
      "       'p95_chronic', 'p95_chronic_rs', 'p95_chronic_bw', 'p95_chronic_bw_rs',\n",
      "       'p975_chronic', 'p975_chronic_rs', 'p975_chronic_bw',\n",
      "       'p975_chronic_bw_rs', 'p99_chronic', 'p99_chronic_rs', 'p99_chronic_bw',\n",
      "       'p99_chronic_bw_rs', 'avg_acute', 'avg_acute_rs', 'avg_acute_bw',\n",
      "       'avg_acute_bw_rs', 'STD_AC', 'STD_AC_BW_RS', 'STD_AC_RS', 'STD_AC_BW',\n",
      "       'p5_acute', 'p5_acute_rs', 'p5_acute_bw', 'p5_acute_bw_rs', 'p10_acute',\n",
      "       'p10_acute_rs', 'p10_acute_bw', 'p10_acute_bw_rs', 'median_acute',\n",
      "       'median_acute_rs', 'median_acute_bw', 'median_acute_bw_rs', 'p95_acute',\n",
      "       'p95_acute_rs', 'p95_acute_bw', 'p95_acute_bw_rs', 'p975_acute',\n",
      "       'p975_acute_rs', 'p975_acute_bw', 'p975_acute_bw_rs', 'p99_acute',\n",
      "       'p99_acute_rs', 'p99_acute_bw', 'p99_acute_bw_rs', 'level'],\n",
      "      dtype='object')\n"
     ]
    }
   ],
   "source": [
    "df = pd.read_excel(\"ESFA_CONSUMPTION_DASHBOARD_FORMAT.xlsx\")\n",
    "display(df.head(5))\n",
    "\n",
    "print('Colunas:\\n', df.columns)"
   ]
  },
  {
   "cell_type": "markdown",
   "metadata": {},
   "source": [
    "#### Separando e renomeando as colunas necessárias para a análise"
   ]
  },
  {
   "cell_type": "code",
   "execution_count": 3,
   "metadata": {},
   "outputs": [
    {
     "data": {
      "text/html": [
       "<div>\n",
       "<style scoped>\n",
       "    .dataframe tbody tr th:only-of-type {\n",
       "        vertical-align: middle;\n",
       "    }\n",
       "\n",
       "    .dataframe tbody tr th {\n",
       "        vertical-align: top;\n",
       "    }\n",
       "\n",
       "    .dataframe thead th {\n",
       "        text-align: right;\n",
       "    }\n",
       "</style>\n",
       "<table border=\"1\" class=\"dataframe\">\n",
       "  <thead>\n",
       "    <tr style=\"text-align: right;\">\n",
       "      <th></th>\n",
       "      <th>Country</th>\n",
       "      <th>PopulationGroup</th>\n",
       "      <th>ConsumptionCategory</th>\n",
       "      <th>ConsumptionSpecificity</th>\n",
       "      <th>GramsPerDays</th>\n",
       "      <th>Days</th>\n",
       "      <th>GramsOneDay</th>\n",
       "    </tr>\n",
       "  </thead>\n",
       "  <tbody>\n",
       "    <tr>\n",
       "      <th>0</th>\n",
       "      <td>Austria</td>\n",
       "      <td>Adults</td>\n",
       "      <td>Alcoholic beverages</td>\n",
       "      <td>Alcoholic beverages</td>\n",
       "      <td>2123</td>\n",
       "      <td>7</td>\n",
       "      <td>303.3</td>\n",
       "    </tr>\n",
       "    <tr>\n",
       "      <th>1</th>\n",
       "      <td>Austria</td>\n",
       "      <td>Adults</td>\n",
       "      <td>Alcoholic beverages</td>\n",
       "      <td>Beer and beer-like beverage</td>\n",
       "      <td>2123</td>\n",
       "      <td>7</td>\n",
       "      <td>303.3</td>\n",
       "    </tr>\n",
       "    <tr>\n",
       "      <th>2</th>\n",
       "      <td>Austria</td>\n",
       "      <td>Adults</td>\n",
       "      <td>Alcoholic beverages</td>\n",
       "      <td>Beer and beer-like beverage</td>\n",
       "      <td>2123</td>\n",
       "      <td>7</td>\n",
       "      <td>303.3</td>\n",
       "    </tr>\n",
       "    <tr>\n",
       "      <th>3</th>\n",
       "      <td>Austria</td>\n",
       "      <td>Adults</td>\n",
       "      <td>Alcoholic beverages</td>\n",
       "      <td>Beer and beer-like beverage</td>\n",
       "      <td>2123</td>\n",
       "      <td>7</td>\n",
       "      <td>303.3</td>\n",
       "    </tr>\n",
       "    <tr>\n",
       "      <th>4</th>\n",
       "      <td>Austria</td>\n",
       "      <td>Adults</td>\n",
       "      <td>Alcoholic beverages</td>\n",
       "      <td>Beer and beer-like beverage</td>\n",
       "      <td>2123</td>\n",
       "      <td>7</td>\n",
       "      <td>303.3</td>\n",
       "    </tr>\n",
       "    <tr>\n",
       "      <th>...</th>\n",
       "      <td>...</td>\n",
       "      <td>...</td>\n",
       "      <td>...</td>\n",
       "      <td>...</td>\n",
       "      <td>...</td>\n",
       "      <td>...</td>\n",
       "      <td>...</td>\n",
       "    </tr>\n",
       "    <tr>\n",
       "      <th>307079</th>\n",
       "      <td>United Kingdom</td>\n",
       "      <td>Toddlers</td>\n",
       "      <td>Water and water-based beverages</td>\n",
       "      <td>Water based beverages</td>\n",
       "      <td>5217</td>\n",
       "      <td>6</td>\n",
       "      <td>869.5</td>\n",
       "    </tr>\n",
       "    <tr>\n",
       "      <th>307080</th>\n",
       "      <td>United Kingdom</td>\n",
       "      <td>Toddlers</td>\n",
       "      <td>Water and water-based beverages</td>\n",
       "      <td>Water based beverages</td>\n",
       "      <td>5217</td>\n",
       "      <td>6</td>\n",
       "      <td>869.5</td>\n",
       "    </tr>\n",
       "    <tr>\n",
       "      <th>307081</th>\n",
       "      <td>United Kingdom</td>\n",
       "      <td>Toddlers</td>\n",
       "      <td>Water and water-based beverages</td>\n",
       "      <td>Water based beverages</td>\n",
       "      <td>5217</td>\n",
       "      <td>6</td>\n",
       "      <td>869.5</td>\n",
       "    </tr>\n",
       "    <tr>\n",
       "      <th>307082</th>\n",
       "      <td>United Kingdom</td>\n",
       "      <td>Toddlers</td>\n",
       "      <td>Water and water-based beverages</td>\n",
       "      <td>Water based beverages</td>\n",
       "      <td>5217</td>\n",
       "      <td>6</td>\n",
       "      <td>869.5</td>\n",
       "    </tr>\n",
       "    <tr>\n",
       "      <th>307083</th>\n",
       "      <td>United Kingdom</td>\n",
       "      <td>Toddlers</td>\n",
       "      <td>Water and water-based beverages</td>\n",
       "      <td>Water based beverages</td>\n",
       "      <td>5217</td>\n",
       "      <td>6</td>\n",
       "      <td>869.5</td>\n",
       "    </tr>\n",
       "  </tbody>\n",
       "</table>\n",
       "<p>307084 rows × 7 columns</p>\n",
       "</div>"
      ],
      "text/plain": [
       "               Country PopulationGroup              ConsumptionCategory  \\\n",
       "0              Austria          Adults              Alcoholic beverages   \n",
       "1              Austria          Adults              Alcoholic beverages   \n",
       "2              Austria          Adults              Alcoholic beverages   \n",
       "3              Austria          Adults              Alcoholic beverages   \n",
       "4              Austria          Adults              Alcoholic beverages   \n",
       "...                ...             ...                              ...   \n",
       "307079  United Kingdom        Toddlers  Water and water-based beverages   \n",
       "307080  United Kingdom        Toddlers  Water and water-based beverages   \n",
       "307081  United Kingdom        Toddlers  Water and water-based beverages   \n",
       "307082  United Kingdom        Toddlers  Water and water-based beverages   \n",
       "307083  United Kingdom        Toddlers  Water and water-based beverages   \n",
       "\n",
       "             ConsumptionSpecificity  GramsPerDays  Days  GramsOneDay  \n",
       "0               Alcoholic beverages          2123     7        303.3  \n",
       "1       Beer and beer-like beverage          2123     7        303.3  \n",
       "2       Beer and beer-like beverage          2123     7        303.3  \n",
       "3       Beer and beer-like beverage          2123     7        303.3  \n",
       "4       Beer and beer-like beverage          2123     7        303.3  \n",
       "...                             ...           ...   ...          ...  \n",
       "307079        Water based beverages          5217     6        869.5  \n",
       "307080        Water based beverages          5217     6        869.5  \n",
       "307081        Water based beverages          5217     6        869.5  \n",
       "307082        Water based beverages          5217     6        869.5  \n",
       "307083        Water based beverages          5217     6        869.5  \n",
       "\n",
       "[307084 rows x 7 columns]"
      ]
     },
     "metadata": {},
     "output_type": "display_data"
    }
   ],
   "source": [
    "df = df[['SurveyscountryDESC', 'PopulationGroupL2DESC', 'ExposurehierarchyL1DESC', 'ExposurehierarchyL2DESC', 'count_days_s_pg', 'level']]\n",
    "\n",
    "df = df.rename(columns={\n",
    "    'SurveyscountryDESC': 'Country',\n",
    "    'PopulationGroupL2DESC': 'PopulationGroup',\n",
    "    'ExposurehierarchyL1DESC': 'ConsumptionCategory',\n",
    "    'ExposurehierarchyL2DESC': 'ConsumptionSpecificity',\n",
    "    'count_days_s_pg': 'GramsPerDays',\n",
    "    'level': 'Days'\n",
    "})\n",
    "\n",
    "#Nova coluna que calcula as gramas em um único dia, para todos os dados ficarem igualados\n",
    "df['GramsOneDay'] = (df['GramsPerDays'] / df['Days']).round(1)\n",
    "\n",
    "display(df)"
   ]
  },
  {
   "cell_type": "markdown",
   "metadata": {},
   "source": [
    "#### Excluindo linhas vazias"
   ]
  },
  {
   "cell_type": "code",
   "execution_count": 4,
   "metadata": {},
   "outputs": [
    {
     "data": {
      "text/html": [
       "<div>\n",
       "<style scoped>\n",
       "    .dataframe tbody tr th:only-of-type {\n",
       "        vertical-align: middle;\n",
       "    }\n",
       "\n",
       "    .dataframe tbody tr th {\n",
       "        vertical-align: top;\n",
       "    }\n",
       "\n",
       "    .dataframe thead th {\n",
       "        text-align: right;\n",
       "    }\n",
       "</style>\n",
       "<table border=\"1\" class=\"dataframe\">\n",
       "  <thead>\n",
       "    <tr style=\"text-align: right;\">\n",
       "      <th></th>\n",
       "      <th>Country</th>\n",
       "      <th>PopulationGroup</th>\n",
       "      <th>ConsumptionCategory</th>\n",
       "      <th>ConsumptionSpecificity</th>\n",
       "      <th>GramsPerDays</th>\n",
       "      <th>Days</th>\n",
       "      <th>GramsOneDay</th>\n",
       "    </tr>\n",
       "  </thead>\n",
       "  <tbody>\n",
       "    <tr>\n",
       "      <th>0</th>\n",
       "      <td>Austria</td>\n",
       "      <td>Adults</td>\n",
       "      <td>Alcoholic beverages</td>\n",
       "      <td>Alcoholic beverages</td>\n",
       "      <td>2123</td>\n",
       "      <td>7</td>\n",
       "      <td>303.3</td>\n",
       "    </tr>\n",
       "    <tr>\n",
       "      <th>1</th>\n",
       "      <td>Austria</td>\n",
       "      <td>Adults</td>\n",
       "      <td>Alcoholic beverages</td>\n",
       "      <td>Beer and beer-like beverage</td>\n",
       "      <td>2123</td>\n",
       "      <td>7</td>\n",
       "      <td>303.3</td>\n",
       "    </tr>\n",
       "    <tr>\n",
       "      <th>2</th>\n",
       "      <td>Austria</td>\n",
       "      <td>Adults</td>\n",
       "      <td>Alcoholic beverages</td>\n",
       "      <td>Beer and beer-like beverage</td>\n",
       "      <td>2123</td>\n",
       "      <td>7</td>\n",
       "      <td>303.3</td>\n",
       "    </tr>\n",
       "    <tr>\n",
       "      <th>3</th>\n",
       "      <td>Austria</td>\n",
       "      <td>Adults</td>\n",
       "      <td>Alcoholic beverages</td>\n",
       "      <td>Beer and beer-like beverage</td>\n",
       "      <td>2123</td>\n",
       "      <td>7</td>\n",
       "      <td>303.3</td>\n",
       "    </tr>\n",
       "    <tr>\n",
       "      <th>4</th>\n",
       "      <td>Austria</td>\n",
       "      <td>Adults</td>\n",
       "      <td>Alcoholic beverages</td>\n",
       "      <td>Beer and beer-like beverage</td>\n",
       "      <td>2123</td>\n",
       "      <td>7</td>\n",
       "      <td>303.3</td>\n",
       "    </tr>\n",
       "    <tr>\n",
       "      <th>...</th>\n",
       "      <td>...</td>\n",
       "      <td>...</td>\n",
       "      <td>...</td>\n",
       "      <td>...</td>\n",
       "      <td>...</td>\n",
       "      <td>...</td>\n",
       "      <td>...</td>\n",
       "    </tr>\n",
       "    <tr>\n",
       "      <th>307079</th>\n",
       "      <td>United Kingdom</td>\n",
       "      <td>Toddlers</td>\n",
       "      <td>Water and water-based beverages</td>\n",
       "      <td>Water based beverages</td>\n",
       "      <td>5217</td>\n",
       "      <td>6</td>\n",
       "      <td>869.5</td>\n",
       "    </tr>\n",
       "    <tr>\n",
       "      <th>307080</th>\n",
       "      <td>United Kingdom</td>\n",
       "      <td>Toddlers</td>\n",
       "      <td>Water and water-based beverages</td>\n",
       "      <td>Water based beverages</td>\n",
       "      <td>5217</td>\n",
       "      <td>6</td>\n",
       "      <td>869.5</td>\n",
       "    </tr>\n",
       "    <tr>\n",
       "      <th>307081</th>\n",
       "      <td>United Kingdom</td>\n",
       "      <td>Toddlers</td>\n",
       "      <td>Water and water-based beverages</td>\n",
       "      <td>Water based beverages</td>\n",
       "      <td>5217</td>\n",
       "      <td>6</td>\n",
       "      <td>869.5</td>\n",
       "    </tr>\n",
       "    <tr>\n",
       "      <th>307082</th>\n",
       "      <td>United Kingdom</td>\n",
       "      <td>Toddlers</td>\n",
       "      <td>Water and water-based beverages</td>\n",
       "      <td>Water based beverages</td>\n",
       "      <td>5217</td>\n",
       "      <td>6</td>\n",
       "      <td>869.5</td>\n",
       "    </tr>\n",
       "    <tr>\n",
       "      <th>307083</th>\n",
       "      <td>United Kingdom</td>\n",
       "      <td>Toddlers</td>\n",
       "      <td>Water and water-based beverages</td>\n",
       "      <td>Water based beverages</td>\n",
       "      <td>5217</td>\n",
       "      <td>6</td>\n",
       "      <td>869.5</td>\n",
       "    </tr>\n",
       "  </tbody>\n",
       "</table>\n",
       "<p>303808 rows × 7 columns</p>\n",
       "</div>"
      ],
      "text/plain": [
       "               Country PopulationGroup              ConsumptionCategory  \\\n",
       "0              Austria          Adults              Alcoholic beverages   \n",
       "1              Austria          Adults              Alcoholic beverages   \n",
       "2              Austria          Adults              Alcoholic beverages   \n",
       "3              Austria          Adults              Alcoholic beverages   \n",
       "4              Austria          Adults              Alcoholic beverages   \n",
       "...                ...             ...                              ...   \n",
       "307079  United Kingdom        Toddlers  Water and water-based beverages   \n",
       "307080  United Kingdom        Toddlers  Water and water-based beverages   \n",
       "307081  United Kingdom        Toddlers  Water and water-based beverages   \n",
       "307082  United Kingdom        Toddlers  Water and water-based beverages   \n",
       "307083  United Kingdom        Toddlers  Water and water-based beverages   \n",
       "\n",
       "             ConsumptionSpecificity  GramsPerDays  Days  GramsOneDay  \n",
       "0               Alcoholic beverages          2123     7        303.3  \n",
       "1       Beer and beer-like beverage          2123     7        303.3  \n",
       "2       Beer and beer-like beverage          2123     7        303.3  \n",
       "3       Beer and beer-like beverage          2123     7        303.3  \n",
       "4       Beer and beer-like beverage          2123     7        303.3  \n",
       "...                             ...           ...   ...          ...  \n",
       "307079        Water based beverages          5217     6        869.5  \n",
       "307080        Water based beverages          5217     6        869.5  \n",
       "307081        Water based beverages          5217     6        869.5  \n",
       "307082        Water based beverages          5217     6        869.5  \n",
       "307083        Water based beverages          5217     6        869.5  \n",
       "\n",
       "[303808 rows x 7 columns]"
      ]
     },
     "metadata": {},
     "output_type": "display_data"
    }
   ],
   "source": [
    "df = df.dropna()\n",
    "display(df)"
   ]
  },
  {
   "cell_type": "markdown",
   "metadata": {},
   "source": [
    "#### Verificando a existência de Outliers"
   ]
  },
  {
   "cell_type": "code",
   "execution_count": 5,
   "metadata": {},
   "outputs": [
    {
     "data": {
      "application/vnd.plotly.v1+json": {
       "config": {
        "plotlyServerURL": "https://plot.ly"
       },
       "data": [
        {
         "alignmentgroup": "True",
         "hovertemplate": "x=%{x}<br>y=%{y}<extra></extra>",
         "legendgroup": "",
         "marker": {
          "color": "#636efa",
          "pattern": {
           "shape": ""
          }
         },
         "name": "",
         "offsetgroup": "",
         "orientation": "v",
         "showlegend": false,
         "textposition": "auto",
         "type": "bar",
         "x": [
          "Alcoholic beverages",
          "Beer and beer-like beverage",
          "Mixed alcoholic drinks",
          "Unsweetened spirits and liqueurs",
          "Wine and wine-like drinks",
          "Animal and vegetable fats/oils",
          "Fat emulsions and blended fats",
          "Hot drinks and similar (coffee, cocoa, tea and herbal infusions)",
          "Ingredients for coffee, cocoa, tea, and herbal infusions",
          "Dishes, incl. Ready to eat meals (excluding soups and salads)",
          "Fried or extruded cereal, seed or root-based products",
          "Soups and salads",
          "Processed eggs",
          "Unprocessed eggs",
          "Crustaceans",
          "Fish (meat)",
          "Fish and seafood processed",
          "Molluscs",
          "Fruit used as fruit",
          "Processed fruit products",
          "Concentrated or dehydrated fruit/vegetables juices",
          "Extracts of plant origin",
          "Fruit / vegetable juices and nectars",
          "Bread and similar products",
          "Breakfast cereals",
          "Cereals and cereal primary derivatives",
          "Fine bakery wares",
          "Pasta, doughs and similar products",
          "Legumes",
          "Nuts, oilseeds and oilfruits",
          "Processed legumes, nuts, oilseeds and spices",
          "Spices",
          "Food flavourings",
          "Miscellaneous agents for food processing",
          "Starches",
          "Animal edible offal, non-muscle, other than liver and kidney",
          "Animal fresh fat tissues",
          "Animal liver",
          "Mammals and birds meat",
          "Meat specialties",
          "Processed whole meat products",
          "Sausages",
          "Cheese",
          "Dairy dessert and similar",
          "Fermented milk or cream",
          "Milk and dairy powders and concentrates",
          "Milk, whey and cream",
          "Artificial sweeteners (e.g., aspartam, saccharine)",
          "Food for particular diets",
          "Food supplements and similar preparations",
          "Meat and dairy imitates",
          "Condiments (including table-top formats)",
          "Savoury extracts and sauce ingredients",
          "Seasonings and extracts",
          "Starchy roots and tubers",
          "Confectionery including chocolate",
          "Sugar and other sweetening ingredients (excluding intensive sweeteners)",
          "Bulb vegetables",
          "Flowering brassica",
          "Fruiting vegetables",
          "Fungi, mosses and lichens",
          "Herbs and edible flowers",
          "Leafy vegetables",
          "Legumes with pod",
          "Processed or preserved vegetables and similar",
          "Root and tuber vegetables (excluding starchy- and sugar-)",
          "Sprouts, shoots and similar",
          "Stems/stalks eaten as vegetables",
          "Vegetables and vegetable products",
          "Drinking water",
          "Water based beverages",
          "Spoonable desserts and ice creams (generic)",
          "Fish offal",
          "Dessert sauces/toppings",
          "Mixed and other not listed condiments",
          "Sugar plants",
          "Water-based sweet desserts",
          "Isolated proteins and other protein products",
          "Food additives other than flavours, colours and artificial sweeteners",
          "Animal other slaughtering products",
          "Algae and prokaryotes organisms",
          "Infant and follow-on formulae",
          "Processed cereal-based food for infants and young children",
          "Amphibians, reptiles, snails, insects",
          "Ready-to-eat meal for infants and young children",
          "Maltodextrins and similars",
          "Animal mechanically separated meat (MSM)",
          "Starchy root and tuber products",
          "Marinated meat",
          "Meat and meat products",
          "Beverages concentrates",
          "Animal kidney",
          "Animal meat dried",
          "Canned-tinned meat",
          "Animal carcase",
          "Preserved/processed fat tissues",
          "Animal blood",
          "Other food for infants and children",
          "Phytochemicals",
          "Products for non-standard diets, food imitates and food supplements",
          "Food colours",
          "Chemical elements",
          "Vitamins",
          "Liquid or gel separated from plant RPCs",
          "Animal and vegetable fats and oils and primary derivatives thereof",
          "Sugar and similar, confectionery and water-based sweet desserts",
          "Table-top sweeteners formulations",
          "Water and water-based beverages",
          "Bee-produced fortifying agents",
          "Flowers used as vegetables",
          "Sea urchins and other echinoderms",
          "Seasoning, sauces and condiments",
          "Fruit and fruit products",
          "Milk and dairy products",
          "Starchy roots or tubers and products thereof, sugar plants",
          "Fruit and vegetable juices and nectars (including concentrates)",
          "Co-factors to metabolism",
          "Fish, seafood, amphibians, reptiles and invertebrates",
          "Dietary fibre"
         ],
         "xaxis": "x",
         "y": [
          54,
          1765,
          567,
          2431,
          3178,
          5034,
          3272,
          5709,
          2760,
          8547,
          2137,
          3979,
          1233,
          2252,
          1803,
          8789,
          4024,
          1879,
          17608,
          11453,
          673,
          417,
          8913,
          10424,
          6541,
          8017,
          13994,
          3865,
          3993,
          6653,
          2031,
          5341,
          401,
          1093,
          1172,
          663,
          340,
          1980,
          7635,
          1614,
          3827,
          6308,
          10799,
          2891,
          4039,
          1641,
          4543,
          871,
          749,
          2393,
          2483,
          9882,
          1852,
          2001,
          2042,
          8031,
          3957,
          2585,
          1718,
          6440,
          1734,
          4150,
          7107,
          1477,
          4911,
          5045,
          962,
          3571,
          156,
          3333,
          3901,
          612,
          552,
          998,
          162,
          312,
          1257,
          631,
          724,
          1346,
          310,
          833,
          765,
          238,
          919,
          60,
          94,
          590,
          186,
          54,
          544,
          417,
          190,
          595,
          277,
          275,
          60,
          247,
          6,
          6,
          60,
          73,
          119,
          59,
          36,
          18,
          205,
          12,
          87,
          36,
          6,
          24,
          36,
          12,
          78,
          36,
          6,
          6,
          6
         ],
         "yaxis": "y"
        }
       ],
       "layout": {
        "barmode": "relative",
        "legend": {
         "tracegroupgap": 0
        },
        "template": {
         "data": {
          "bar": [
           {
            "error_x": {
             "color": "#2a3f5f"
            },
            "error_y": {
             "color": "#2a3f5f"
            },
            "marker": {
             "line": {
              "color": "#E5ECF6",
              "width": 0.5
             },
             "pattern": {
              "fillmode": "overlay",
              "size": 10,
              "solidity": 0.2
             }
            },
            "type": "bar"
           }
          ],
          "barpolar": [
           {
            "marker": {
             "line": {
              "color": "#E5ECF6",
              "width": 0.5
             },
             "pattern": {
              "fillmode": "overlay",
              "size": 10,
              "solidity": 0.2
             }
            },
            "type": "barpolar"
           }
          ],
          "carpet": [
           {
            "aaxis": {
             "endlinecolor": "#2a3f5f",
             "gridcolor": "white",
             "linecolor": "white",
             "minorgridcolor": "white",
             "startlinecolor": "#2a3f5f"
            },
            "baxis": {
             "endlinecolor": "#2a3f5f",
             "gridcolor": "white",
             "linecolor": "white",
             "minorgridcolor": "white",
             "startlinecolor": "#2a3f5f"
            },
            "type": "carpet"
           }
          ],
          "choropleth": [
           {
            "colorbar": {
             "outlinewidth": 0,
             "ticks": ""
            },
            "type": "choropleth"
           }
          ],
          "contour": [
           {
            "colorbar": {
             "outlinewidth": 0,
             "ticks": ""
            },
            "colorscale": [
             [
              0,
              "#0d0887"
             ],
             [
              0.1111111111111111,
              "#46039f"
             ],
             [
              0.2222222222222222,
              "#7201a8"
             ],
             [
              0.3333333333333333,
              "#9c179e"
             ],
             [
              0.4444444444444444,
              "#bd3786"
             ],
             [
              0.5555555555555556,
              "#d8576b"
             ],
             [
              0.6666666666666666,
              "#ed7953"
             ],
             [
              0.7777777777777778,
              "#fb9f3a"
             ],
             [
              0.8888888888888888,
              "#fdca26"
             ],
             [
              1,
              "#f0f921"
             ]
            ],
            "type": "contour"
           }
          ],
          "contourcarpet": [
           {
            "colorbar": {
             "outlinewidth": 0,
             "ticks": ""
            },
            "type": "contourcarpet"
           }
          ],
          "heatmap": [
           {
            "colorbar": {
             "outlinewidth": 0,
             "ticks": ""
            },
            "colorscale": [
             [
              0,
              "#0d0887"
             ],
             [
              0.1111111111111111,
              "#46039f"
             ],
             [
              0.2222222222222222,
              "#7201a8"
             ],
             [
              0.3333333333333333,
              "#9c179e"
             ],
             [
              0.4444444444444444,
              "#bd3786"
             ],
             [
              0.5555555555555556,
              "#d8576b"
             ],
             [
              0.6666666666666666,
              "#ed7953"
             ],
             [
              0.7777777777777778,
              "#fb9f3a"
             ],
             [
              0.8888888888888888,
              "#fdca26"
             ],
             [
              1,
              "#f0f921"
             ]
            ],
            "type": "heatmap"
           }
          ],
          "heatmapgl": [
           {
            "colorbar": {
             "outlinewidth": 0,
             "ticks": ""
            },
            "colorscale": [
             [
              0,
              "#0d0887"
             ],
             [
              0.1111111111111111,
              "#46039f"
             ],
             [
              0.2222222222222222,
              "#7201a8"
             ],
             [
              0.3333333333333333,
              "#9c179e"
             ],
             [
              0.4444444444444444,
              "#bd3786"
             ],
             [
              0.5555555555555556,
              "#d8576b"
             ],
             [
              0.6666666666666666,
              "#ed7953"
             ],
             [
              0.7777777777777778,
              "#fb9f3a"
             ],
             [
              0.8888888888888888,
              "#fdca26"
             ],
             [
              1,
              "#f0f921"
             ]
            ],
            "type": "heatmapgl"
           }
          ],
          "histogram": [
           {
            "marker": {
             "pattern": {
              "fillmode": "overlay",
              "size": 10,
              "solidity": 0.2
             }
            },
            "type": "histogram"
           }
          ],
          "histogram2d": [
           {
            "colorbar": {
             "outlinewidth": 0,
             "ticks": ""
            },
            "colorscale": [
             [
              0,
              "#0d0887"
             ],
             [
              0.1111111111111111,
              "#46039f"
             ],
             [
              0.2222222222222222,
              "#7201a8"
             ],
             [
              0.3333333333333333,
              "#9c179e"
             ],
             [
              0.4444444444444444,
              "#bd3786"
             ],
             [
              0.5555555555555556,
              "#d8576b"
             ],
             [
              0.6666666666666666,
              "#ed7953"
             ],
             [
              0.7777777777777778,
              "#fb9f3a"
             ],
             [
              0.8888888888888888,
              "#fdca26"
             ],
             [
              1,
              "#f0f921"
             ]
            ],
            "type": "histogram2d"
           }
          ],
          "histogram2dcontour": [
           {
            "colorbar": {
             "outlinewidth": 0,
             "ticks": ""
            },
            "colorscale": [
             [
              0,
              "#0d0887"
             ],
             [
              0.1111111111111111,
              "#46039f"
             ],
             [
              0.2222222222222222,
              "#7201a8"
             ],
             [
              0.3333333333333333,
              "#9c179e"
             ],
             [
              0.4444444444444444,
              "#bd3786"
             ],
             [
              0.5555555555555556,
              "#d8576b"
             ],
             [
              0.6666666666666666,
              "#ed7953"
             ],
             [
              0.7777777777777778,
              "#fb9f3a"
             ],
             [
              0.8888888888888888,
              "#fdca26"
             ],
             [
              1,
              "#f0f921"
             ]
            ],
            "type": "histogram2dcontour"
           }
          ],
          "mesh3d": [
           {
            "colorbar": {
             "outlinewidth": 0,
             "ticks": ""
            },
            "type": "mesh3d"
           }
          ],
          "parcoords": [
           {
            "line": {
             "colorbar": {
              "outlinewidth": 0,
              "ticks": ""
             }
            },
            "type": "parcoords"
           }
          ],
          "pie": [
           {
            "automargin": true,
            "type": "pie"
           }
          ],
          "scatter": [
           {
            "fillpattern": {
             "fillmode": "overlay",
             "size": 10,
             "solidity": 0.2
            },
            "type": "scatter"
           }
          ],
          "scatter3d": [
           {
            "line": {
             "colorbar": {
              "outlinewidth": 0,
              "ticks": ""
             }
            },
            "marker": {
             "colorbar": {
              "outlinewidth": 0,
              "ticks": ""
             }
            },
            "type": "scatter3d"
           }
          ],
          "scattercarpet": [
           {
            "marker": {
             "colorbar": {
              "outlinewidth": 0,
              "ticks": ""
             }
            },
            "type": "scattercarpet"
           }
          ],
          "scattergeo": [
           {
            "marker": {
             "colorbar": {
              "outlinewidth": 0,
              "ticks": ""
             }
            },
            "type": "scattergeo"
           }
          ],
          "scattergl": [
           {
            "marker": {
             "colorbar": {
              "outlinewidth": 0,
              "ticks": ""
             }
            },
            "type": "scattergl"
           }
          ],
          "scattermapbox": [
           {
            "marker": {
             "colorbar": {
              "outlinewidth": 0,
              "ticks": ""
             }
            },
            "type": "scattermapbox"
           }
          ],
          "scatterpolar": [
           {
            "marker": {
             "colorbar": {
              "outlinewidth": 0,
              "ticks": ""
             }
            },
            "type": "scatterpolar"
           }
          ],
          "scatterpolargl": [
           {
            "marker": {
             "colorbar": {
              "outlinewidth": 0,
              "ticks": ""
             }
            },
            "type": "scatterpolargl"
           }
          ],
          "scatterternary": [
           {
            "marker": {
             "colorbar": {
              "outlinewidth": 0,
              "ticks": ""
             }
            },
            "type": "scatterternary"
           }
          ],
          "surface": [
           {
            "colorbar": {
             "outlinewidth": 0,
             "ticks": ""
            },
            "colorscale": [
             [
              0,
              "#0d0887"
             ],
             [
              0.1111111111111111,
              "#46039f"
             ],
             [
              0.2222222222222222,
              "#7201a8"
             ],
             [
              0.3333333333333333,
              "#9c179e"
             ],
             [
              0.4444444444444444,
              "#bd3786"
             ],
             [
              0.5555555555555556,
              "#d8576b"
             ],
             [
              0.6666666666666666,
              "#ed7953"
             ],
             [
              0.7777777777777778,
              "#fb9f3a"
             ],
             [
              0.8888888888888888,
              "#fdca26"
             ],
             [
              1,
              "#f0f921"
             ]
            ],
            "type": "surface"
           }
          ],
          "table": [
           {
            "cells": {
             "fill": {
              "color": "#EBF0F8"
             },
             "line": {
              "color": "white"
             }
            },
            "header": {
             "fill": {
              "color": "#C8D4E3"
             },
             "line": {
              "color": "white"
             }
            },
            "type": "table"
           }
          ]
         },
         "layout": {
          "annotationdefaults": {
           "arrowcolor": "#2a3f5f",
           "arrowhead": 0,
           "arrowwidth": 1
          },
          "autotypenumbers": "strict",
          "coloraxis": {
           "colorbar": {
            "outlinewidth": 0,
            "ticks": ""
           }
          },
          "colorscale": {
           "diverging": [
            [
             0,
             "#8e0152"
            ],
            [
             0.1,
             "#c51b7d"
            ],
            [
             0.2,
             "#de77ae"
            ],
            [
             0.3,
             "#f1b6da"
            ],
            [
             0.4,
             "#fde0ef"
            ],
            [
             0.5,
             "#f7f7f7"
            ],
            [
             0.6,
             "#e6f5d0"
            ],
            [
             0.7,
             "#b8e186"
            ],
            [
             0.8,
             "#7fbc41"
            ],
            [
             0.9,
             "#4d9221"
            ],
            [
             1,
             "#276419"
            ]
           ],
           "sequential": [
            [
             0,
             "#0d0887"
            ],
            [
             0.1111111111111111,
             "#46039f"
            ],
            [
             0.2222222222222222,
             "#7201a8"
            ],
            [
             0.3333333333333333,
             "#9c179e"
            ],
            [
             0.4444444444444444,
             "#bd3786"
            ],
            [
             0.5555555555555556,
             "#d8576b"
            ],
            [
             0.6666666666666666,
             "#ed7953"
            ],
            [
             0.7777777777777778,
             "#fb9f3a"
            ],
            [
             0.8888888888888888,
             "#fdca26"
            ],
            [
             1,
             "#f0f921"
            ]
           ],
           "sequentialminus": [
            [
             0,
             "#0d0887"
            ],
            [
             0.1111111111111111,
             "#46039f"
            ],
            [
             0.2222222222222222,
             "#7201a8"
            ],
            [
             0.3333333333333333,
             "#9c179e"
            ],
            [
             0.4444444444444444,
             "#bd3786"
            ],
            [
             0.5555555555555556,
             "#d8576b"
            ],
            [
             0.6666666666666666,
             "#ed7953"
            ],
            [
             0.7777777777777778,
             "#fb9f3a"
            ],
            [
             0.8888888888888888,
             "#fdca26"
            ],
            [
             1,
             "#f0f921"
            ]
           ]
          },
          "colorway": [
           "#636efa",
           "#EF553B",
           "#00cc96",
           "#ab63fa",
           "#FFA15A",
           "#19d3f3",
           "#FF6692",
           "#B6E880",
           "#FF97FF",
           "#FECB52"
          ],
          "font": {
           "color": "#2a3f5f"
          },
          "geo": {
           "bgcolor": "white",
           "lakecolor": "white",
           "landcolor": "#E5ECF6",
           "showlakes": true,
           "showland": true,
           "subunitcolor": "white"
          },
          "hoverlabel": {
           "align": "left"
          },
          "hovermode": "closest",
          "mapbox": {
           "style": "light"
          },
          "paper_bgcolor": "white",
          "plot_bgcolor": "#E5ECF6",
          "polar": {
           "angularaxis": {
            "gridcolor": "white",
            "linecolor": "white",
            "ticks": ""
           },
           "bgcolor": "#E5ECF6",
           "radialaxis": {
            "gridcolor": "white",
            "linecolor": "white",
            "ticks": ""
           }
          },
          "scene": {
           "xaxis": {
            "backgroundcolor": "#E5ECF6",
            "gridcolor": "white",
            "gridwidth": 2,
            "linecolor": "white",
            "showbackground": true,
            "ticks": "",
            "zerolinecolor": "white"
           },
           "yaxis": {
            "backgroundcolor": "#E5ECF6",
            "gridcolor": "white",
            "gridwidth": 2,
            "linecolor": "white",
            "showbackground": true,
            "ticks": "",
            "zerolinecolor": "white"
           },
           "zaxis": {
            "backgroundcolor": "#E5ECF6",
            "gridcolor": "white",
            "gridwidth": 2,
            "linecolor": "white",
            "showbackground": true,
            "ticks": "",
            "zerolinecolor": "white"
           }
          },
          "shapedefaults": {
           "line": {
            "color": "#2a3f5f"
           }
          },
          "ternary": {
           "aaxis": {
            "gridcolor": "white",
            "linecolor": "white",
            "ticks": ""
           },
           "baxis": {
            "gridcolor": "white",
            "linecolor": "white",
            "ticks": ""
           },
           "bgcolor": "#E5ECF6",
           "caxis": {
            "gridcolor": "white",
            "linecolor": "white",
            "ticks": ""
           }
          },
          "title": {
           "x": 0.05
          },
          "xaxis": {
           "automargin": true,
           "gridcolor": "white",
           "linecolor": "white",
           "ticks": "",
           "title": {
            "standoff": 15
           },
           "zerolinecolor": "white",
           "zerolinewidth": 2
          },
          "yaxis": {
           "automargin": true,
           "gridcolor": "white",
           "linecolor": "white",
           "ticks": "",
           "title": {
            "standoff": 15
           },
           "zerolinecolor": "white",
           "zerolinewidth": 2
          }
         }
        },
        "title": {
         "text": "Consumo por categoria"
        },
        "xaxis": {
         "anchor": "y",
         "domain": [
          0,
          1
         ],
         "title": {
          "text": "x"
         }
        },
        "yaxis": {
         "anchor": "x",
         "domain": [
          0,
          1
         ],
         "title": {
          "text": "y"
         }
        }
       }
      }
     },
     "metadata": {},
     "output_type": "display_data"
    }
   ],
   "source": [
    "import matplotlib.pyplot as plt\n",
    "import seaborn as sns\n",
    "from collections import Counter\n",
    "import plotly.express as px\n",
    "\n",
    "lista_categorias = list(Counter(df['ConsumptionSpecificity']).keys())\n",
    "lista_valores = list(Counter(df['ConsumptionSpecificity']).values())\n",
    "\n",
    "fig = px.bar(df, lista_categorias, lista_valores, title='Consumo por categoria')\n",
    "fig.show()\n"
   ]
  },
  {
   "cell_type": "markdown",
   "metadata": {},
   "source": [
    "#### Agrupamento de outliers em uma nova categoria: \"Others\""
   ]
  },
  {
   "cell_type": "code",
   "execution_count": 6,
   "metadata": {},
   "outputs": [
    {
     "data": {
      "application/vnd.plotly.v1+json": {
       "config": {
        "plotlyServerURL": "https://plot.ly"
       },
       "data": [
        {
         "alignmentgroup": "True",
         "hovertemplate": "x=%{x}<br>y=%{y}<extra></extra>",
         "legendgroup": "",
         "marker": {
          "color": "#636efa",
          "pattern": {
           "shape": ""
          }
         },
         "name": "",
         "offsetgroup": "",
         "orientation": "v",
         "showlegend": false,
         "textposition": "auto",
         "type": "bar",
         "x": [
          "Others",
          "Beer and beer-like beverage",
          "Others",
          "Unsweetened spirits and liqueurs",
          "Wine and wine-like drinks",
          "Animal and vegetable fats/oils",
          "Fat emulsions and blended fats",
          "Hot drinks and similar (coffee, cocoa, tea and herbal infusions)",
          "Ingredients for coffee, cocoa, tea, and herbal infusions",
          "Dishes, incl. Ready to eat meals (excluding soups and salads)",
          "Fried or extruded cereal, seed or root-based products",
          "Soups and salads",
          "Processed eggs",
          "Unprocessed eggs",
          "Crustaceans",
          "Fish (meat)",
          "Fish and seafood processed",
          "Molluscs",
          "Fruit used as fruit",
          "Processed fruit products",
          "Others",
          "Others",
          "Fruit / vegetable juices and nectars",
          "Bread and similar products",
          "Breakfast cereals",
          "Cereals and cereal primary derivatives",
          "Fine bakery wares",
          "Pasta, doughs and similar products",
          "Legumes",
          "Nuts, oilseeds and oilfruits",
          "Processed legumes, nuts, oilseeds and spices",
          "Spices",
          "Others",
          "Miscellaneous agents for food processing",
          "Starches",
          "Others",
          "Others",
          "Animal liver",
          "Mammals and birds meat",
          "Meat specialties",
          "Processed whole meat products",
          "Sausages",
          "Cheese",
          "Dairy dessert and similar",
          "Fermented milk or cream",
          "Milk and dairy powders and concentrates",
          "Milk, whey and cream",
          "Others",
          "Others",
          "Food supplements and similar preparations",
          "Meat and dairy imitates",
          "Condiments (including table-top formats)",
          "Savoury extracts and sauce ingredients",
          "Seasonings and extracts",
          "Starchy roots and tubers",
          "Confectionery including chocolate",
          "Sugar and other sweetening ingredients (excluding intensive sweeteners)",
          "Bulb vegetables",
          "Flowering brassica",
          "Fruiting vegetables",
          "Fungi, mosses and lichens",
          "Herbs and edible flowers",
          "Leafy vegetables",
          "Legumes with pod",
          "Processed or preserved vegetables and similar",
          "Root and tuber vegetables (excluding starchy- and sugar-)",
          "Others",
          "Stems/stalks eaten as vegetables",
          "Others",
          "Drinking water",
          "Water based beverages",
          "Others",
          "Others",
          "Others",
          "Others",
          "Others",
          "Water-based sweet desserts",
          "Others",
          "Others",
          "Animal other slaughtering products",
          "Others",
          "Others",
          "Others",
          "Others",
          "Others",
          "Others",
          "Others",
          "Others",
          "Others",
          "Others",
          "Others",
          "Others",
          "Others",
          "Others",
          "Others",
          "Others",
          "Others",
          "Others",
          "Others",
          "Others",
          "Others",
          "Others",
          "Others",
          "Others",
          "Others",
          "Others",
          "Others",
          "Others",
          "Others",
          "Others",
          "Others",
          "Others",
          "Others",
          "Others",
          "Others",
          "Others",
          "Others",
          "Others",
          "Others"
         ],
         "xaxis": "x",
         "y": [
          54,
          1765,
          567,
          2431,
          3178,
          5034,
          3272,
          5709,
          2760,
          8547,
          2137,
          3979,
          1233,
          2252,
          1803,
          8789,
          4024,
          1879,
          17608,
          11453,
          673,
          417,
          8913,
          10424,
          6541,
          8017,
          13994,
          3865,
          3993,
          6653,
          2031,
          5341,
          401,
          1093,
          1172,
          663,
          340,
          1980,
          7635,
          1614,
          3827,
          6308,
          10799,
          2891,
          4039,
          1641,
          4543,
          871,
          749,
          2393,
          2483,
          9882,
          1852,
          2001,
          2042,
          8031,
          3957,
          2585,
          1718,
          6440,
          1734,
          4150,
          7107,
          1477,
          4911,
          5045,
          962,
          3571,
          156,
          3333,
          3901,
          612,
          552,
          998,
          162,
          312,
          1257,
          631,
          724,
          1346,
          310,
          833,
          765,
          238,
          919,
          60,
          94,
          590,
          186,
          54,
          544,
          417,
          190,
          595,
          277,
          275,
          60,
          247,
          6,
          6,
          60,
          73,
          119,
          59,
          36,
          18,
          205,
          12,
          87,
          36,
          6,
          24,
          36,
          12,
          78,
          36,
          6,
          6,
          6
         ],
         "yaxis": "y"
        }
       ],
       "layout": {
        "barmode": "relative",
        "height": 1000,
        "legend": {
         "tracegroupgap": 0
        },
        "template": {
         "data": {
          "bar": [
           {
            "error_x": {
             "color": "#2a3f5f"
            },
            "error_y": {
             "color": "#2a3f5f"
            },
            "marker": {
             "line": {
              "color": "#E5ECF6",
              "width": 0.5
             },
             "pattern": {
              "fillmode": "overlay",
              "size": 10,
              "solidity": 0.2
             }
            },
            "type": "bar"
           }
          ],
          "barpolar": [
           {
            "marker": {
             "line": {
              "color": "#E5ECF6",
              "width": 0.5
             },
             "pattern": {
              "fillmode": "overlay",
              "size": 10,
              "solidity": 0.2
             }
            },
            "type": "barpolar"
           }
          ],
          "carpet": [
           {
            "aaxis": {
             "endlinecolor": "#2a3f5f",
             "gridcolor": "white",
             "linecolor": "white",
             "minorgridcolor": "white",
             "startlinecolor": "#2a3f5f"
            },
            "baxis": {
             "endlinecolor": "#2a3f5f",
             "gridcolor": "white",
             "linecolor": "white",
             "minorgridcolor": "white",
             "startlinecolor": "#2a3f5f"
            },
            "type": "carpet"
           }
          ],
          "choropleth": [
           {
            "colorbar": {
             "outlinewidth": 0,
             "ticks": ""
            },
            "type": "choropleth"
           }
          ],
          "contour": [
           {
            "colorbar": {
             "outlinewidth": 0,
             "ticks": ""
            },
            "colorscale": [
             [
              0,
              "#0d0887"
             ],
             [
              0.1111111111111111,
              "#46039f"
             ],
             [
              0.2222222222222222,
              "#7201a8"
             ],
             [
              0.3333333333333333,
              "#9c179e"
             ],
             [
              0.4444444444444444,
              "#bd3786"
             ],
             [
              0.5555555555555556,
              "#d8576b"
             ],
             [
              0.6666666666666666,
              "#ed7953"
             ],
             [
              0.7777777777777778,
              "#fb9f3a"
             ],
             [
              0.8888888888888888,
              "#fdca26"
             ],
             [
              1,
              "#f0f921"
             ]
            ],
            "type": "contour"
           }
          ],
          "contourcarpet": [
           {
            "colorbar": {
             "outlinewidth": 0,
             "ticks": ""
            },
            "type": "contourcarpet"
           }
          ],
          "heatmap": [
           {
            "colorbar": {
             "outlinewidth": 0,
             "ticks": ""
            },
            "colorscale": [
             [
              0,
              "#0d0887"
             ],
             [
              0.1111111111111111,
              "#46039f"
             ],
             [
              0.2222222222222222,
              "#7201a8"
             ],
             [
              0.3333333333333333,
              "#9c179e"
             ],
             [
              0.4444444444444444,
              "#bd3786"
             ],
             [
              0.5555555555555556,
              "#d8576b"
             ],
             [
              0.6666666666666666,
              "#ed7953"
             ],
             [
              0.7777777777777778,
              "#fb9f3a"
             ],
             [
              0.8888888888888888,
              "#fdca26"
             ],
             [
              1,
              "#f0f921"
             ]
            ],
            "type": "heatmap"
           }
          ],
          "heatmapgl": [
           {
            "colorbar": {
             "outlinewidth": 0,
             "ticks": ""
            },
            "colorscale": [
             [
              0,
              "#0d0887"
             ],
             [
              0.1111111111111111,
              "#46039f"
             ],
             [
              0.2222222222222222,
              "#7201a8"
             ],
             [
              0.3333333333333333,
              "#9c179e"
             ],
             [
              0.4444444444444444,
              "#bd3786"
             ],
             [
              0.5555555555555556,
              "#d8576b"
             ],
             [
              0.6666666666666666,
              "#ed7953"
             ],
             [
              0.7777777777777778,
              "#fb9f3a"
             ],
             [
              0.8888888888888888,
              "#fdca26"
             ],
             [
              1,
              "#f0f921"
             ]
            ],
            "type": "heatmapgl"
           }
          ],
          "histogram": [
           {
            "marker": {
             "pattern": {
              "fillmode": "overlay",
              "size": 10,
              "solidity": 0.2
             }
            },
            "type": "histogram"
           }
          ],
          "histogram2d": [
           {
            "colorbar": {
             "outlinewidth": 0,
             "ticks": ""
            },
            "colorscale": [
             [
              0,
              "#0d0887"
             ],
             [
              0.1111111111111111,
              "#46039f"
             ],
             [
              0.2222222222222222,
              "#7201a8"
             ],
             [
              0.3333333333333333,
              "#9c179e"
             ],
             [
              0.4444444444444444,
              "#bd3786"
             ],
             [
              0.5555555555555556,
              "#d8576b"
             ],
             [
              0.6666666666666666,
              "#ed7953"
             ],
             [
              0.7777777777777778,
              "#fb9f3a"
             ],
             [
              0.8888888888888888,
              "#fdca26"
             ],
             [
              1,
              "#f0f921"
             ]
            ],
            "type": "histogram2d"
           }
          ],
          "histogram2dcontour": [
           {
            "colorbar": {
             "outlinewidth": 0,
             "ticks": ""
            },
            "colorscale": [
             [
              0,
              "#0d0887"
             ],
             [
              0.1111111111111111,
              "#46039f"
             ],
             [
              0.2222222222222222,
              "#7201a8"
             ],
             [
              0.3333333333333333,
              "#9c179e"
             ],
             [
              0.4444444444444444,
              "#bd3786"
             ],
             [
              0.5555555555555556,
              "#d8576b"
             ],
             [
              0.6666666666666666,
              "#ed7953"
             ],
             [
              0.7777777777777778,
              "#fb9f3a"
             ],
             [
              0.8888888888888888,
              "#fdca26"
             ],
             [
              1,
              "#f0f921"
             ]
            ],
            "type": "histogram2dcontour"
           }
          ],
          "mesh3d": [
           {
            "colorbar": {
             "outlinewidth": 0,
             "ticks": ""
            },
            "type": "mesh3d"
           }
          ],
          "parcoords": [
           {
            "line": {
             "colorbar": {
              "outlinewidth": 0,
              "ticks": ""
             }
            },
            "type": "parcoords"
           }
          ],
          "pie": [
           {
            "automargin": true,
            "type": "pie"
           }
          ],
          "scatter": [
           {
            "fillpattern": {
             "fillmode": "overlay",
             "size": 10,
             "solidity": 0.2
            },
            "type": "scatter"
           }
          ],
          "scatter3d": [
           {
            "line": {
             "colorbar": {
              "outlinewidth": 0,
              "ticks": ""
             }
            },
            "marker": {
             "colorbar": {
              "outlinewidth": 0,
              "ticks": ""
             }
            },
            "type": "scatter3d"
           }
          ],
          "scattercarpet": [
           {
            "marker": {
             "colorbar": {
              "outlinewidth": 0,
              "ticks": ""
             }
            },
            "type": "scattercarpet"
           }
          ],
          "scattergeo": [
           {
            "marker": {
             "colorbar": {
              "outlinewidth": 0,
              "ticks": ""
             }
            },
            "type": "scattergeo"
           }
          ],
          "scattergl": [
           {
            "marker": {
             "colorbar": {
              "outlinewidth": 0,
              "ticks": ""
             }
            },
            "type": "scattergl"
           }
          ],
          "scattermapbox": [
           {
            "marker": {
             "colorbar": {
              "outlinewidth": 0,
              "ticks": ""
             }
            },
            "type": "scattermapbox"
           }
          ],
          "scatterpolar": [
           {
            "marker": {
             "colorbar": {
              "outlinewidth": 0,
              "ticks": ""
             }
            },
            "type": "scatterpolar"
           }
          ],
          "scatterpolargl": [
           {
            "marker": {
             "colorbar": {
              "outlinewidth": 0,
              "ticks": ""
             }
            },
            "type": "scatterpolargl"
           }
          ],
          "scatterternary": [
           {
            "marker": {
             "colorbar": {
              "outlinewidth": 0,
              "ticks": ""
             }
            },
            "type": "scatterternary"
           }
          ],
          "surface": [
           {
            "colorbar": {
             "outlinewidth": 0,
             "ticks": ""
            },
            "colorscale": [
             [
              0,
              "#0d0887"
             ],
             [
              0.1111111111111111,
              "#46039f"
             ],
             [
              0.2222222222222222,
              "#7201a8"
             ],
             [
              0.3333333333333333,
              "#9c179e"
             ],
             [
              0.4444444444444444,
              "#bd3786"
             ],
             [
              0.5555555555555556,
              "#d8576b"
             ],
             [
              0.6666666666666666,
              "#ed7953"
             ],
             [
              0.7777777777777778,
              "#fb9f3a"
             ],
             [
              0.8888888888888888,
              "#fdca26"
             ],
             [
              1,
              "#f0f921"
             ]
            ],
            "type": "surface"
           }
          ],
          "table": [
           {
            "cells": {
             "fill": {
              "color": "#EBF0F8"
             },
             "line": {
              "color": "white"
             }
            },
            "header": {
             "fill": {
              "color": "#C8D4E3"
             },
             "line": {
              "color": "white"
             }
            },
            "type": "table"
           }
          ]
         },
         "layout": {
          "annotationdefaults": {
           "arrowcolor": "#2a3f5f",
           "arrowhead": 0,
           "arrowwidth": 1
          },
          "autotypenumbers": "strict",
          "coloraxis": {
           "colorbar": {
            "outlinewidth": 0,
            "ticks": ""
           }
          },
          "colorscale": {
           "diverging": [
            [
             0,
             "#8e0152"
            ],
            [
             0.1,
             "#c51b7d"
            ],
            [
             0.2,
             "#de77ae"
            ],
            [
             0.3,
             "#f1b6da"
            ],
            [
             0.4,
             "#fde0ef"
            ],
            [
             0.5,
             "#f7f7f7"
            ],
            [
             0.6,
             "#e6f5d0"
            ],
            [
             0.7,
             "#b8e186"
            ],
            [
             0.8,
             "#7fbc41"
            ],
            [
             0.9,
             "#4d9221"
            ],
            [
             1,
             "#276419"
            ]
           ],
           "sequential": [
            [
             0,
             "#0d0887"
            ],
            [
             0.1111111111111111,
             "#46039f"
            ],
            [
             0.2222222222222222,
             "#7201a8"
            ],
            [
             0.3333333333333333,
             "#9c179e"
            ],
            [
             0.4444444444444444,
             "#bd3786"
            ],
            [
             0.5555555555555556,
             "#d8576b"
            ],
            [
             0.6666666666666666,
             "#ed7953"
            ],
            [
             0.7777777777777778,
             "#fb9f3a"
            ],
            [
             0.8888888888888888,
             "#fdca26"
            ],
            [
             1,
             "#f0f921"
            ]
           ],
           "sequentialminus": [
            [
             0,
             "#0d0887"
            ],
            [
             0.1111111111111111,
             "#46039f"
            ],
            [
             0.2222222222222222,
             "#7201a8"
            ],
            [
             0.3333333333333333,
             "#9c179e"
            ],
            [
             0.4444444444444444,
             "#bd3786"
            ],
            [
             0.5555555555555556,
             "#d8576b"
            ],
            [
             0.6666666666666666,
             "#ed7953"
            ],
            [
             0.7777777777777778,
             "#fb9f3a"
            ],
            [
             0.8888888888888888,
             "#fdca26"
            ],
            [
             1,
             "#f0f921"
            ]
           ]
          },
          "colorway": [
           "#636efa",
           "#EF553B",
           "#00cc96",
           "#ab63fa",
           "#FFA15A",
           "#19d3f3",
           "#FF6692",
           "#B6E880",
           "#FF97FF",
           "#FECB52"
          ],
          "font": {
           "color": "#2a3f5f"
          },
          "geo": {
           "bgcolor": "white",
           "lakecolor": "white",
           "landcolor": "#E5ECF6",
           "showlakes": true,
           "showland": true,
           "subunitcolor": "white"
          },
          "hoverlabel": {
           "align": "left"
          },
          "hovermode": "closest",
          "mapbox": {
           "style": "light"
          },
          "paper_bgcolor": "white",
          "plot_bgcolor": "#E5ECF6",
          "polar": {
           "angularaxis": {
            "gridcolor": "white",
            "linecolor": "white",
            "ticks": ""
           },
           "bgcolor": "#E5ECF6",
           "radialaxis": {
            "gridcolor": "white",
            "linecolor": "white",
            "ticks": ""
           }
          },
          "scene": {
           "xaxis": {
            "backgroundcolor": "#E5ECF6",
            "gridcolor": "white",
            "gridwidth": 2,
            "linecolor": "white",
            "showbackground": true,
            "ticks": "",
            "zerolinecolor": "white"
           },
           "yaxis": {
            "backgroundcolor": "#E5ECF6",
            "gridcolor": "white",
            "gridwidth": 2,
            "linecolor": "white",
            "showbackground": true,
            "ticks": "",
            "zerolinecolor": "white"
           },
           "zaxis": {
            "backgroundcolor": "#E5ECF6",
            "gridcolor": "white",
            "gridwidth": 2,
            "linecolor": "white",
            "showbackground": true,
            "ticks": "",
            "zerolinecolor": "white"
           }
          },
          "shapedefaults": {
           "line": {
            "color": "#2a3f5f"
           }
          },
          "ternary": {
           "aaxis": {
            "gridcolor": "white",
            "linecolor": "white",
            "ticks": ""
           },
           "baxis": {
            "gridcolor": "white",
            "linecolor": "white",
            "ticks": ""
           },
           "bgcolor": "#E5ECF6",
           "caxis": {
            "gridcolor": "white",
            "linecolor": "white",
            "ticks": ""
           }
          },
          "title": {
           "x": 0.05
          },
          "xaxis": {
           "automargin": true,
           "gridcolor": "white",
           "linecolor": "white",
           "ticks": "",
           "title": {
            "standoff": 15
           },
           "zerolinecolor": "white",
           "zerolinewidth": 2
          },
          "yaxis": {
           "automargin": true,
           "gridcolor": "white",
           "linecolor": "white",
           "ticks": "",
           "title": {
            "standoff": 15
           },
           "zerolinecolor": "white",
           "zerolinewidth": 2
          }
         }
        },
        "title": {
         "text": "Consumo por categoria"
        },
        "width": 1000,
        "xaxis": {
         "anchor": "y",
         "domain": [
          0,
          1
         ],
         "title": {
          "text": "x"
         }
        },
        "yaxis": {
         "anchor": "x",
         "domain": [
          0,
          1
         ],
         "title": {
          "text": "y"
         }
        }
       }
      }
     },
     "metadata": {},
     "output_type": "display_data"
    }
   ],
   "source": [
    "lista_categorias_agrupada = lista_categorias\n",
    "for i in range (0, len(lista_categorias)):\n",
    "  if (int(lista_valores[i]) < 1000):\n",
    "    lista_categorias_agrupada[i] = 'Others'\n",
    "\n",
    "fig = px.bar(df, lista_categorias_agrupada, lista_valores, title='Consumo por categoria', height=1000, width=1000)\n",
    "fig.show()"
   ]
  }
 ],
 "metadata": {
  "kernelspec": {
   "display_name": "Python 3",
   "language": "python",
   "name": "python3"
  },
  "language_info": {
   "codemirror_mode": {
    "name": "ipython",
    "version": 3
   },
   "file_extension": ".py",
   "mimetype": "text/x-python",
   "name": "python",
   "nbconvert_exporter": "python",
   "pygments_lexer": "ipython3",
   "version": "3.11.2"
  }
 },
 "nbformat": 4,
 "nbformat_minor": 2
}
